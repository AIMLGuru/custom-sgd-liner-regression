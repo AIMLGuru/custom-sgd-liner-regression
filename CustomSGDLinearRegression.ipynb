{
 "cells": [
  {
   "cell_type": "code",
   "execution_count": 1,
   "metadata": {
    "colab": {},
    "colab_type": "code",
    "id": "REYPoTJ1Af7u"
   },
   "outputs": [],
   "source": [
    "import warnings\n",
    "warnings.filterwarnings(\"ignore\")\n",
    "from sklearn.datasets import load_boston\n",
    "from random import seed\n",
    "from random import random\n",
    "from csv import reader\n",
    "from math import sqrt\n",
    "from sklearn import preprocessing\n",
    "import pandas as pd\n",
    "import numpy as np\n",
    "import matplotlib.pyplot as plt\n",
    "from prettytable import PrettyTable\n",
    "import seaborn as sns\n",
    "from sklearn.linear_model import SGDRegressor\n",
    "from sklearn import preprocessing\n",
    "from sklearn.metrics import mean_squared_error\n",
    "from sklearn.metrics import mean_absolute_error\n",
    "from sklearn.model_selection import train_test_split"
   ]
  },
  {
   "cell_type": "code",
   "execution_count": 2,
   "metadata": {
    "colab": {},
    "colab_type": "code",
    "id": "NTQ2iH-kAwbo"
   },
   "outputs": [],
   "source": [
    "X = load_boston().data\n",
    "Y = load_boston().target"
   ]
  },
  {
   "cell_type": "code",
   "execution_count": 3,
   "metadata": {},
   "outputs": [
    {
     "data": {
      "text/plain": [
       "array(['CRIM', 'ZN', 'INDUS', 'CHAS', 'NOX', 'RM', 'AGE', 'DIS', 'RAD',\n",
       "       'TAX', 'PTRATIO', 'B', 'LSTAT'], dtype='<U7')"
      ]
     },
     "execution_count": 3,
     "metadata": {},
     "output_type": "execute_result"
    }
   ],
   "source": [
    "load_boston().feature_names"
   ]
  },
  {
   "cell_type": "code",
   "execution_count": 4,
   "metadata": {},
   "outputs": [
    {
     "name": "stdout",
     "output_type": "stream",
     "text": [
      ".. _boston_dataset:\n",
      "\n",
      "Boston house prices dataset\n",
      "---------------------------\n",
      "\n",
      "**Data Set Characteristics:**  \n",
      "\n",
      "    :Number of Instances: 506 \n",
      "\n",
      "    :Number of Attributes: 13 numeric/categorical predictive. Median Value (attribute 14) is usually the target.\n",
      "\n",
      "    :Attribute Information (in order):\n",
      "        - CRIM     per capita crime rate by town\n",
      "        - ZN       proportion of residential land zoned for lots over 25,000 sq.ft.\n",
      "        - INDUS    proportion of non-retail business acres per town\n",
      "        - CHAS     Charles River dummy variable (= 1 if tract bounds river; 0 otherwise)\n",
      "        - NOX      nitric oxides concentration (parts per 10 million)\n",
      "        - RM       average number of rooms per dwelling\n",
      "        - AGE      proportion of owner-occupied units built prior to 1940\n",
      "        - DIS      weighted distances to five Boston employment centres\n",
      "        - RAD      index of accessibility to radial highways\n",
      "        - TAX      full-value property-tax rate per $10,000\n",
      "        - PTRATIO  pupil-teacher ratio by town\n",
      "        - B        1000(Bk - 0.63)^2 where Bk is the proportion of black people by town\n",
      "        - LSTAT    % lower status of the population\n",
      "        - MEDV     Median value of owner-occupied homes in $1000's\n",
      "\n",
      "    :Missing Attribute Values: None\n",
      "\n",
      "    :Creator: Harrison, D. and Rubinfeld, D.L.\n",
      "\n",
      "This is a copy of UCI ML housing dataset.\n",
      "https://archive.ics.uci.edu/ml/machine-learning-databases/housing/\n",
      "\n",
      "\n",
      "This dataset was taken from the StatLib library which is maintained at Carnegie Mellon University.\n",
      "\n",
      "The Boston house-price data of Harrison, D. and Rubinfeld, D.L. 'Hedonic\n",
      "prices and the demand for clean air', J. Environ. Economics & Management,\n",
      "vol.5, 81-102, 1978.   Used in Belsley, Kuh & Welsch, 'Regression diagnostics\n",
      "...', Wiley, 1980.   N.B. Various transformations are used in the table on\n",
      "pages 244-261 of the latter.\n",
      "\n",
      "The Boston house-price data has been used in many machine learning papers that address regression\n",
      "problems.   \n",
      "     \n",
      ".. topic:: References\n",
      "\n",
      "   - Belsley, Kuh & Welsch, 'Regression diagnostics: Identifying Influential Data and Sources of Collinearity', Wiley, 1980. 244-261.\n",
      "   - Quinlan,R. (1993). Combining Instance-Based and Model-Based Learning. In Proceedings on the Tenth International Conference of Machine Learning, 236-243, University of Massachusetts, Amherst. Morgan Kaufmann.\n",
      "\n"
     ]
    }
   ],
   "source": [
    "print(load_boston().DESCR)"
   ]
  },
  {
   "cell_type": "code",
   "execution_count": 5,
   "metadata": {},
   "outputs": [],
   "source": [
    "X_train, X_test, y_train, y_test = train_test_split( X, Y, test_size=0.30, random_state=42)"
   ]
  },
  {
   "cell_type": "code",
   "execution_count": 6,
   "metadata": {
    "colab": {},
    "colab_type": "code",
    "id": "FgUW39s6Be0U"
   },
   "outputs": [],
   "source": [
    "#scale the  variables\n",
    "scaler = preprocessing.StandardScaler().fit(X_train)\n",
    "X_train = scaler.fit_transform(X_train)\n",
    "X_test = scaler.transform(X_test)"
   ]
  },
  {
   "cell_type": "code",
   "execution_count": 7,
   "metadata": {},
   "outputs": [],
   "source": [
    "X_train, X_test, y_train, y_test=map(lambda x:pd.DataFrame(data=x), [X_train, X_test, y_train, y_test])"
   ]
  },
  {
   "cell_type": "code",
   "execution_count": 8,
   "metadata": {},
   "outputs": [
    {
     "name": "stdout",
     "output_type": "stream",
     "text": [
      "(506, 13)\n",
      "(506,)\n",
      "(354, 13)\n",
      "(354, 1)\n",
      "(152, 13)\n",
      "(152, 1)\n",
      "<class 'pandas.core.frame.DataFrame'>\n",
      "<class 'pandas.core.frame.DataFrame'>\n"
     ]
    }
   ],
   "source": [
    "print(X.shape)\n",
    "print(Y.shape)\n",
    "print(X_train.shape)\n",
    "print(y_train.shape)\n",
    "print(X_test.shape)\n",
    "print(y_test.shape)\n",
    "print(type(X_train))\n",
    "print(type(y_train))"
   ]
  },
  {
   "cell_type": "code",
   "execution_count": 25,
   "metadata": {},
   "outputs": [],
   "source": [
    "def customSGD(trainData, trainLabels, n_iterations, learning_rate):\n",
    "    \n",
    "    \n",
    "    #initialise weight vector w and bias b\n",
    "    w = np.zeros(trainData.shape[1])\n",
    "    b = 0\n",
    "\n",
    "    while( n_iterations > 0):\n",
    "        \n",
    "        #3% of data poits as batch size\n",
    "        batch_size=int(X.shape[0] * 0.03)\n",
    "  \n",
    "        sampleTrainData=trainData.sample(batch_size)\n",
    "        x=np.array(sampleTrainData)\n",
    "        y=np.array(trainLabels.iloc[sampleTrainData.index])\n",
    "\n",
    "        w_gradient=np.zeros(trainData.shape[1])\n",
    "        b_gradient=np.zeros(1)\n",
    "        \n",
    "        y_predict=[]\n",
    "        \n",
    "\n",
    "        for i in range(batch_size):\n",
    "\n",
    "            y_predict=np.dot(w, x[i]) + b\n",
    "            \n",
    "            #gradient of weight vector w and bias b\n",
    "            w_gradient=w_gradient+(-2)*x[i]*(y[i]-(y_predict))\n",
    "            b_gradient=b_gradient+(-2)*(y[i]-y_predict)\n",
    "            \n",
    "            grad_w = w + (-2)*x[i]*(y[i]-y_predict)\n",
    "            grad_b = b + (-2)*(y[i]-y_predict)\n",
    "\n",
    "            w = w - learning_rate*w_gradient\n",
    "            b = b - learning_rate*b_gradient\n",
    "            learning_rate = learning_rate\n",
    "            \n",
    "        \n",
    "            n_iterations-=1\n",
    "\n",
    "    return w, b"
   ]
  },
  {
   "cell_type": "code",
   "execution_count": 26,
   "metadata": {},
   "outputs": [],
   "source": [
    "#target prediction of customSGD\n",
    "def predict(x, w, b):\n",
    "    y_pred=[]\n",
    "    x=np.array(x)\n",
    "    \n",
    "    for i in range(len(x)):\n",
    "        y=np.asscalar(np.dot(w,x[i])+b)\n",
    "        y_pred.append(y)\n",
    "        \n",
    "    \n",
    "    return np.array(y_pred)\n"
   ]
  },
  {
   "cell_type": "code",
   "execution_count": 34,
   "metadata": {},
   "outputs": [],
   "source": [
    "lst=[]\n",
    "n_iterations=[i for i in range (100, 2000, 200)]\n",
    "learning_rates= [pow(10,i) for i in range (-6, -2)]\n",
    "\n",
    "\n",
    "for i in n_iterations:\n",
    "    for j in learning_rates:\n",
    "        w, b=customSGD(X_train, y_train, i, j)\n",
    "        lst.append(list((i, j, float(mean_squared_error(y_test, predict(X_test, w, b))),\n",
    "                         float(mean_absolute_error(y_test, predict(X_test, w, b))))))\n"
   ]
  },
  {
   "cell_type": "code",
   "execution_count": 35,
   "metadata": {},
   "outputs": [
    {
     "data": {
      "text/html": [
       "<div>\n",
       "<style scoped>\n",
       "    .dataframe tbody tr th:only-of-type {\n",
       "        vertical-align: middle;\n",
       "    }\n",
       "\n",
       "    .dataframe tbody tr th {\n",
       "        vertical-align: top;\n",
       "    }\n",
       "\n",
       "    .dataframe thead th {\n",
       "        text-align: right;\n",
       "    }\n",
       "</style>\n",
       "<table border=\"1\" class=\"dataframe\">\n",
       "  <thead>\n",
       "    <tr style=\"text-align: right;\">\n",
       "      <th></th>\n",
       "      <th>n_ieration</th>\n",
       "      <th>learning_rate</th>\n",
       "      <th>MSE</th>\n",
       "      <th>MAE</th>\n",
       "    </tr>\n",
       "  </thead>\n",
       "  <tbody>\n",
       "    <tr>\n",
       "      <th>0</th>\n",
       "      <td>900</td>\n",
       "      <td>0.00100</td>\n",
       "      <td>21.00710</td>\n",
       "      <td>3.12539</td>\n",
       "    </tr>\n",
       "    <tr>\n",
       "      <th>1</th>\n",
       "      <td>1700</td>\n",
       "      <td>0.00100</td>\n",
       "      <td>22.40372</td>\n",
       "      <td>3.18321</td>\n",
       "    </tr>\n",
       "    <tr>\n",
       "      <th>2</th>\n",
       "      <td>1900</td>\n",
       "      <td>0.00010</td>\n",
       "      <td>26.01586</td>\n",
       "      <td>3.11310</td>\n",
       "    </tr>\n",
       "    <tr>\n",
       "      <th>3</th>\n",
       "      <td>1100</td>\n",
       "      <td>0.00100</td>\n",
       "      <td>27.34119</td>\n",
       "      <td>3.75591</td>\n",
       "    </tr>\n",
       "    <tr>\n",
       "      <th>4</th>\n",
       "      <td>1900</td>\n",
       "      <td>0.00100</td>\n",
       "      <td>27.82412</td>\n",
       "      <td>3.79475</td>\n",
       "    </tr>\n",
       "    <tr>\n",
       "      <th>5</th>\n",
       "      <td>1500</td>\n",
       "      <td>0.00100</td>\n",
       "      <td>28.07922</td>\n",
       "      <td>3.56823</td>\n",
       "    </tr>\n",
       "    <tr>\n",
       "      <th>6</th>\n",
       "      <td>1700</td>\n",
       "      <td>0.00010</td>\n",
       "      <td>28.19452</td>\n",
       "      <td>3.24569</td>\n",
       "    </tr>\n",
       "    <tr>\n",
       "      <th>7</th>\n",
       "      <td>1500</td>\n",
       "      <td>0.00010</td>\n",
       "      <td>28.76398</td>\n",
       "      <td>3.44172</td>\n",
       "    </tr>\n",
       "    <tr>\n",
       "      <th>8</th>\n",
       "      <td>500</td>\n",
       "      <td>0.00100</td>\n",
       "      <td>33.29740</td>\n",
       "      <td>4.16146</td>\n",
       "    </tr>\n",
       "    <tr>\n",
       "      <th>9</th>\n",
       "      <td>1300</td>\n",
       "      <td>0.00010</td>\n",
       "      <td>34.70829</td>\n",
       "      <td>3.74389</td>\n",
       "    </tr>\n",
       "    <tr>\n",
       "      <th>10</th>\n",
       "      <td>1100</td>\n",
       "      <td>0.00010</td>\n",
       "      <td>39.08211</td>\n",
       "      <td>4.27344</td>\n",
       "    </tr>\n",
       "  </tbody>\n",
       "</table>\n",
       "</div>"
      ],
      "text/plain": [
       "    n_ieration  learning_rate      MSE     MAE\n",
       "0          900        0.00100 21.00710 3.12539\n",
       "1         1700        0.00100 22.40372 3.18321\n",
       "2         1900        0.00010 26.01586 3.11310\n",
       "3         1100        0.00100 27.34119 3.75591\n",
       "4         1900        0.00100 27.82412 3.79475\n",
       "5         1500        0.00100 28.07922 3.56823\n",
       "6         1700        0.00010 28.19452 3.24569\n",
       "7         1500        0.00010 28.76398 3.44172\n",
       "8          500        0.00100 33.29740 4.16146\n",
       "9         1300        0.00010 34.70829 3.74389\n",
       "10        1100        0.00010 39.08211 4.27344"
      ]
     },
     "execution_count": 35,
     "metadata": {},
     "output_type": "execute_result"
    }
   ],
   "source": [
    "lst=sorted(lst, key= lambda x:x[2])\n",
    "df = pd.DataFrame(data=lst, columns = ['n_ieration', 'learning_rate', 'MSE', 'MAE'])[:11] \n",
    "pd.set_option('display.float_format', lambda x: '%.5f' %x)\n",
    "df"
   ]
  },
  {
   "cell_type": "code",
   "execution_count": 29,
   "metadata": {},
   "outputs": [
    {
     "data": {
      "image/png": "[encoded data removed]",
      "text/plain": [
       "<Figure size 432x288 with 1 Axes>"
      ]
     },
     "metadata": {
      "needs_background": "light"
     },
     "output_type": "display_data"
    }
   ],
   "source": [
    "plt.scatter(y_test, predict(X_test, w, b))\n",
    "plt.xlabel('Actual Target')\n",
    "plt.ylabel('Predicted Target')\n",
    "plt.title('Actual Target and Predicted Target from Custom SGDRegressor')\n",
    "plt.show()"
   ]
  },
  {
   "cell_type": "code",
   "execution_count": 30,
   "metadata": {},
   "outputs": [
    {
     "data": {
      "image/png": "[encoded data removed]",
      "text/plain": [
       "<Figure size 432x288 with 1 Axes>"
      ]
     },
     "metadata": {
      "needs_background": "light"
     },
     "output_type": "display_data"
    },
    {
     "name": "stdout",
     "output_type": "stream",
     "text": [
      "Mean Squared Error : 22.84418088559415\n",
      "Mean Absolute Error : 3.197020850289163\n"
     ]
    }
   ],
   "source": [
    "# SkLearn SGD classifier\n",
    "n_iter=700\n",
    "clf_ = SGDRegressor(max_iter=n_iter, eta0=0.001 , random_state=42)\n",
    "clf_.fit(X_train, y_train)\n",
    "y_pred=clf_.predict(X_test)\n",
    "plt.scatter(y_test, y_pred)\n",
    "plt.xlabel('Actual Target')\n",
    "plt.ylabel('Predicted Target')\n",
    "plt.title('\\nActual Target and Predicted Target from Sklean\\'s SGDRegressor')\n",
    "plt.show()\n",
    "\n",
    "print('Mean Squared Error : {}'.format(mean_squared_error(y_test, y_pred)) )\n",
    "print('Mean Absolute Error : {}'.format(mean_absolute_error(y_test, y_pred)) )"
   ]
  },
  {
   "cell_type": "code",
   "execution_count": 31,
   "metadata": {},
   "outputs": [
    {
     "name": "stdout",
     "output_type": "stream",
     "text": [
      "+------------------------+-------------+-------------+\n",
      "|         Model          | Optimum MSE | Optimum MAE |\n",
      "+------------------------+-------------+-------------+\n",
      "|  Custom SGDRegressor   |   21.56453  |   3.18287   |\n",
      "| Sklearn's SGDRegressor |   22.84418  |   3.19702   |\n",
      "+------------------------+-------------+-------------+\n"
     ]
    }
   ],
   "source": [
    "from prettytable import prettytable\n",
    "x=PrettyTable()\n",
    "x.field_names=['Model', 'Optimum MSE', 'Optimum MAE']\n",
    "x.add_row(['Custom SGDRegressor', '21.00710', '3.12539'])\n",
    "x.add_row(['Sklearn\\'s SGDRegressor', '22.84418', '3.19702'])\n",
    "\n",
    "print(x)"
   ]
  },
  {
   "cell_type": "markdown",
   "metadata": {},
   "source": [
    "### Conclusions\n",
    "- We built our Custom SGDRegressor model that takes n_iteration and learning_rates as hyperparameter\n",
    "- Undersood clearly how internals of Schocastic Gradient Descend's internal algorithm works\n",
    "- Our model with best fit parameters could perform slightly good than Sklearn's SGDRegressor for best parameters"
   ]
  },
  {
   "cell_type": "code",
   "execution_count": null,
   "metadata": {},
   "outputs": [],
   "source": []
  }
 ],
 "metadata": {
  "colab": {
   "name": "Untitled3.ipynb",
   "provenance": [],
   "version": "0.3.2"
  },
  "kernelspec": {
   "display_name": "Python 3",
   "language": "python",
   "name": "python3"
  },
  "language_info": {
   "codemirror_mode": {
    "name": "ipython",
    "version": 3
   },
   "file_extension": ".py",
   "mimetype": "text/x-python",
   "name": "python",
   "nbconvert_exporter": "python",
   "pygments_lexer": "ipython3",
   "version": "3.8.10"
  }
 },
 "nbformat": 4,
 "nbformat_minor": 1
}
